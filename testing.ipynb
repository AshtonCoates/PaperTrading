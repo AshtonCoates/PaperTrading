{
 "cells": [
  {
   "cell_type": "code",
   "execution_count": 1,
   "metadata": {},
   "outputs": [],
   "source": [
    "import pandas as pd\n",
    "import numpy as np\n",
    "\n",
    "import requests\n",
    "import datetime\n",
    "\n",
    "import yfinance as yf\n",
    "\n",
    "from alpaca.trading.client import TradingClient\n",
    "from alpaca.trading.enums import OrderSide, TimeInForce\n",
    "from alpaca.trading.requests import MarketOrderRequest, StopLossRequest\n",
    "from alpaca.trading.stream import TradingStream\n",
    "\n",
    "import config\n",
    "from reversal_bot import Reversal\n",
    "from portfolio import Portfolio"
   ]
  },
  {
   "cell_type": "code",
   "execution_count": 2,
   "metadata": {},
   "outputs": [],
   "source": [
    "def read_tickers(filename):\n",
    "    tickers_list = []\n",
    "    with open(filename, 'r') as file:\n",
    "        for line in file:\n",
    "            ticker = line.strip()\n",
    "            tickers_list.append(ticker)\n",
    "        return tickers_list"
   ]
  },
  {
   "cell_type": "code",
   "execution_count": 3,
   "metadata": {},
   "outputs": [],
   "source": [
    "# (deprecated) list of tickers on the NASDAQ 100\n",
    "tickers = read_tickers('nasdaq_100.txt')"
   ]
  },
  {
   "cell_type": "code",
   "execution_count": 4,
   "metadata": {},
   "outputs": [],
   "source": [
    "bot = Reversal(tickers)"
   ]
  },
  {
   "cell_type": "code",
   "execution_count": 5,
   "metadata": {},
   "outputs": [
    {
     "name": "stderr",
     "output_type": "stream",
     "text": [
      "NDX: Period '305m' is invalid, must be one of ['1mo', '3mo', '6mo', 'ytd', '1y', '2y', '5y', '10y', 'max']\n",
      "NDX: Period '305m' is invalid, must be one of ['1mo', '3mo', '6mo', 'ytd', '1y', '2y', '5y', '10y', 'max']\n"
     ]
    }
   ],
   "source": [
    "bot.push_to_watchlist()"
   ]
  },
  {
   "cell_type": "code",
   "execution_count": 6,
   "metadata": {},
   "outputs": [
    {
     "data": {
      "text/plain": [
       "['AAPL',\n",
       " 'ADI',\n",
       " 'AKAM',\n",
       " 'AMAT',\n",
       " 'AMGN',\n",
       " 'ATVI',\n",
       " 'AVGO',\n",
       " 'BIIB',\n",
       " 'BMRN',\n",
       " 'CHKP',\n",
       " 'CHTR',\n",
       " 'COST',\n",
       " 'CSCO',\n",
       " 'DLTR',\n",
       " 'EA',\n",
       " 'FAST',\n",
       " 'GILD',\n",
       " 'INCY',\n",
       " 'INTC',\n",
       " 'ISRG',\n",
       " 'LRCX',\n",
       " 'MAR',\n",
       " 'MCHP',\n",
       " 'MDLZ',\n",
       " 'MNST',\n",
       " 'MSFT',\n",
       " 'NCLH',\n",
       " 'NTAP',\n",
       " 'NXPI',\n",
       " 'ORLY',\n",
       " 'PAYX',\n",
       " 'PCAR',\n",
       " 'QCOM',\n",
       " 'REGN',\n",
       " 'ROST',\n",
       " 'SBUX',\n",
       " 'STX',\n",
       " 'SWKS',\n",
       " 'TSCO',\n",
       " 'TXN',\n",
       " 'ULTA',\n",
       " 'VOD',\n",
       " 'VRTX',\n",
       " 'WDC',\n",
       " 'XRAY']"
      ]
     },
     "execution_count": 6,
     "metadata": {},
     "output_type": "execute_result"
    }
   ],
   "source": [
    "bot.watchlist"
   ]
  },
  {
   "cell_type": "code",
   "execution_count": 7,
   "metadata": {},
   "outputs": [],
   "source": [
    "buys = bot.buy_query()"
   ]
  },
  {
   "cell_type": "code",
   "execution_count": 8,
   "metadata": {},
   "outputs": [
    {
     "name": "stdout",
     "output_type": "stream",
     "text": [
      "[]\n"
     ]
    }
   ],
   "source": [
    "print(buys)"
   ]
  },
  {
   "cell_type": "code",
   "execution_count": 13,
   "metadata": {},
   "outputs": [
    {
     "name": "stdout",
     "output_type": "stream",
     "text": [
      "id 5eb25c71-0f3d-41c6-bb4e-01c08c09f8ae\n",
      "account_number PA31PUYR39KM\n",
      "status AccountStatus.ACTIVE\n",
      "crypto_status AccountStatus.ACTIVE\n",
      "currency USD\n",
      "buying_power 200000\n",
      "regt_buying_power 200000\n",
      "daytrading_buying_power 0\n",
      "non_marginable_buying_power 100000\n",
      "cash 100000\n",
      "accrued_fees 0\n",
      "pending_transfer_out None\n",
      "pending_transfer_in 0\n",
      "portfolio_value 100000\n",
      "pattern_day_trader False\n",
      "trading_blocked False\n",
      "transfers_blocked False\n",
      "account_blocked False\n",
      "created_at 2023-07-27 04:59:34.716957+00:00\n",
      "trade_suspended_by_user False\n",
      "multiplier 2\n",
      "shorting_enabled True\n",
      "equity 100000\n",
      "last_equity 100000\n",
      "long_market_value 0\n",
      "short_market_value 0\n",
      "initial_margin 0\n",
      "maintenance_margin 0\n",
      "last_maintenance_margin 0\n",
      "sma 100000\n",
      "daytrade_count 0\n"
     ]
    }
   ],
   "source": [
    "client = TradingClient(api_key = config.API_KEY, secret_key=config.SECRET_KEY, paper=True)\n",
    "account = dict(client.get_account())\n",
    "for i,j in account.items():\n",
    "    print(i, j)"
   ]
  },
  {
   "cell_type": "code",
   "execution_count": 14,
   "metadata": {},
   "outputs": [
    {
     "ename": "APIError",
     "evalue": "{\"code\":40010001,\"message\":\"could not find asset for \\\"APPL\\\"\"}",
     "output_type": "error",
     "traceback": [
      "\u001b[0;31m---------------------------------------------------------------------------\u001b[0m",
      "\u001b[0;31mHTTPError\u001b[0m                                 Traceback (most recent call last)",
      "File \u001b[0;32m~/Documents/Python Finance Projects/PaperTrading/.venv/lib/python3.10/site-packages/alpaca/common/rest.py:196\u001b[0m, in \u001b[0;36mRESTClient._one_request\u001b[0;34m(self, method, url, opts, retry)\u001b[0m\n\u001b[1;32m    195\u001b[0m \u001b[39mtry\u001b[39;00m:\n\u001b[0;32m--> 196\u001b[0m     response\u001b[39m.\u001b[39;49mraise_for_status()\n\u001b[1;32m    197\u001b[0m \u001b[39mexcept\u001b[39;00m HTTPError \u001b[39mas\u001b[39;00m http_error:\n\u001b[1;32m    198\u001b[0m     \u001b[39m# retry if we hit Rate Limit\u001b[39;00m\n",
      "File \u001b[0;32m~/Documents/Python Finance Projects/PaperTrading/.venv/lib/python3.10/site-packages/requests/models.py:1021\u001b[0m, in \u001b[0;36mResponse.raise_for_status\u001b[0;34m(self)\u001b[0m\n\u001b[1;32m   1020\u001b[0m \u001b[39mif\u001b[39;00m http_error_msg:\n\u001b[0;32m-> 1021\u001b[0m     \u001b[39mraise\u001b[39;00m HTTPError(http_error_msg, response\u001b[39m=\u001b[39m\u001b[39mself\u001b[39m)\n",
      "\u001b[0;31mHTTPError\u001b[0m: 422 Client Error: Unprocessable Entity for url: https://paper-api.alpaca.markets/v2/positions/APPL",
      "\nDuring handling of the above exception, another exception occurred:\n",
      "\u001b[0;31mAPIError\u001b[0m                                  Traceback (most recent call last)",
      "Cell \u001b[0;32mIn[14], line 1\u001b[0m\n\u001b[0;32m----> 1\u001b[0m client\u001b[39m.\u001b[39;49mclose_position(\u001b[39m'\u001b[39;49m\u001b[39mAPPL\u001b[39;49m\u001b[39m'\u001b[39;49m)\n",
      "File \u001b[0;32m~/Documents/Python Finance Projects/PaperTrading/.venv/lib/python3.10/site-packages/alpaca/trading/client.py:307\u001b[0m, in \u001b[0;36mTradingClient.close_position\u001b[0;34m(self, symbol_or_asset_id, close_options)\u001b[0m\n\u001b[1;32m    292\u001b[0m \u001b[39m\u001b[39m\u001b[39m\"\"\"\u001b[39;00m\n\u001b[1;32m    293\u001b[0m \u001b[39mLiquidates the position for a single asset.\u001b[39;00m\n\u001b[1;32m    294\u001b[0m \n\u001b[0;32m   (...)\u001b[0m\n\u001b[1;32m    304\u001b[0m \u001b[39m    alpaca.trading.models.Order: The order that was placed to close the position.\u001b[39;00m\n\u001b[1;32m    305\u001b[0m \u001b[39m\"\"\"\u001b[39;00m\n\u001b[1;32m    306\u001b[0m symbol_or_asset_id \u001b[39m=\u001b[39m validate_symbol_or_asset_id(symbol_or_asset_id)\n\u001b[0;32m--> 307\u001b[0m response \u001b[39m=\u001b[39m \u001b[39mself\u001b[39;49m\u001b[39m.\u001b[39;49mdelete(\n\u001b[1;32m    308\u001b[0m     \u001b[39mf\u001b[39;49m\u001b[39m\"\u001b[39;49m\u001b[39m/positions/\u001b[39;49m\u001b[39m{\u001b[39;49;00msymbol_or_asset_id\u001b[39m}\u001b[39;49;00m\u001b[39m\"\u001b[39;49m,\n\u001b[1;32m    309\u001b[0m     close_options\u001b[39m.\u001b[39;49mto_request_fields() \u001b[39mif\u001b[39;49;00m close_options \u001b[39melse\u001b[39;49;00m {},\n\u001b[1;32m    310\u001b[0m )\n\u001b[1;32m    312\u001b[0m \u001b[39mif\u001b[39;00m \u001b[39mself\u001b[39m\u001b[39m.\u001b[39m_use_raw_data:\n\u001b[1;32m    313\u001b[0m     \u001b[39mreturn\u001b[39;00m response\n",
      "File \u001b[0;32m~/Documents/Python Finance Projects/PaperTrading/.venv/lib/python3.10/site-packages/alpaca/common/rest.py:272\u001b[0m, in \u001b[0;36mRESTClient.delete\u001b[0;34m(self, path, data)\u001b[0m\n\u001b[1;32m    262\u001b[0m \u001b[39mdef\u001b[39;00m \u001b[39mdelete\u001b[39m(\u001b[39mself\u001b[39m, path, data: Union[\u001b[39mdict\u001b[39m, \u001b[39mstr\u001b[39m] \u001b[39m=\u001b[39m \u001b[39mNone\u001b[39;00m) \u001b[39m-\u001b[39m\u001b[39m>\u001b[39m \u001b[39mdict\u001b[39m:\n\u001b[1;32m    263\u001b[0m \u001b[39m    \u001b[39m\u001b[39m\"\"\"Performs a single DELETE request\u001b[39;00m\n\u001b[1;32m    264\u001b[0m \n\u001b[1;32m    265\u001b[0m \u001b[39m    Args:\u001b[39;00m\n\u001b[0;32m   (...)\u001b[0m\n\u001b[1;32m    270\u001b[0m \u001b[39m        dict: The response\u001b[39;00m\n\u001b[1;32m    271\u001b[0m \u001b[39m    \"\"\"\u001b[39;00m\n\u001b[0;32m--> 272\u001b[0m     \u001b[39mreturn\u001b[39;00m \u001b[39mself\u001b[39;49m\u001b[39m.\u001b[39;49m_request(\u001b[39m\"\u001b[39;49m\u001b[39mDELETE\u001b[39;49m\u001b[39m\"\u001b[39;49m, path, data)\n",
      "File \u001b[0;32m~/Documents/Python Finance Projects/PaperTrading/.venv/lib/python3.10/site-packages/alpaca/common/rest.py:129\u001b[0m, in \u001b[0;36mRESTClient._request\u001b[0;34m(self, method, path, data, base_url, api_version)\u001b[0m\n\u001b[1;32m    127\u001b[0m \u001b[39mwhile\u001b[39;00m retry \u001b[39m>\u001b[39m\u001b[39m=\u001b[39m \u001b[39m0\u001b[39m:\n\u001b[1;32m    128\u001b[0m     \u001b[39mtry\u001b[39;00m:\n\u001b[0;32m--> 129\u001b[0m         \u001b[39mreturn\u001b[39;00m \u001b[39mself\u001b[39;49m\u001b[39m.\u001b[39;49m_one_request(method, url, opts, retry)\n\u001b[1;32m    130\u001b[0m     \u001b[39mexcept\u001b[39;00m RetryException:\n\u001b[1;32m    131\u001b[0m         time\u001b[39m.\u001b[39msleep(\u001b[39mself\u001b[39m\u001b[39m.\u001b[39m_retry_wait)\n",
      "File \u001b[0;32m~/Documents/Python Finance Projects/PaperTrading/.venv/lib/python3.10/site-packages/alpaca/common/rest.py:205\u001b[0m, in \u001b[0;36mRESTClient._one_request\u001b[0;34m(self, method, url, opts, retry)\u001b[0m\n\u001b[1;32m    202\u001b[0m     \u001b[39m# raise API error for all other errors\u001b[39;00m\n\u001b[1;32m    203\u001b[0m     error \u001b[39m=\u001b[39m response\u001b[39m.\u001b[39mtext\n\u001b[0;32m--> 205\u001b[0m     \u001b[39mraise\u001b[39;00m APIError(error, http_error)\n\u001b[1;32m    207\u001b[0m \u001b[39mif\u001b[39;00m response\u001b[39m.\u001b[39mtext \u001b[39m!=\u001b[39m \u001b[39m\"\u001b[39m\u001b[39m\"\u001b[39m:\n\u001b[1;32m    208\u001b[0m     \u001b[39mreturn\u001b[39;00m response\u001b[39m.\u001b[39mjson()\n",
      "\u001b[0;31mAPIError\u001b[0m: {\"code\":40010001,\"message\":\"could not find asset for \\\"APPL\\\"\"}"
     ]
    }
   ],
   "source": [
    "client.close_position('APPL')"
   ]
  },
  {
   "cell_type": "code",
   "execution_count": 15,
   "metadata": {},
   "outputs": [
    {
     "data": {
      "text/plain": [
       "datetime.datetime(2023, 8, 2, 19, 33, 9, 540369)"
      ]
     },
     "execution_count": 15,
     "metadata": {},
     "output_type": "execute_result"
    }
   ],
   "source": [
    "datetime.datetime.now()"
   ]
  },
  {
   "cell_type": "code",
   "execution_count": 16,
   "metadata": {},
   "outputs": [
    {
     "ename": "TypeError",
     "evalue": "'datetime.datetime' object is not subscriptable",
     "output_type": "error",
     "traceback": [
      "\u001b[0;31m---------------------------------------------------------------------------\u001b[0m",
      "\u001b[0;31mTypeError\u001b[0m                                 Traceback (most recent call last)",
      "Cell \u001b[0;32mIn[16], line 1\u001b[0m\n\u001b[0;32m----> 1\u001b[0m datetime\u001b[39m.\u001b[39;49mdatetime\u001b[39m.\u001b[39;49mnow()[\u001b[39m3\u001b[39;49m]\n",
      "\u001b[0;31mTypeError\u001b[0m: 'datetime.datetime' object is not subscriptable"
     ]
    }
   ],
   "source": [
    "datetime.datetime.now()[3]"
   ]
  },
  {
   "cell_type": "code",
   "execution_count": null,
   "metadata": {},
   "outputs": [],
   "source": []
  }
 ],
 "metadata": {
  "kernelspec": {
   "display_name": ".venv",
   "language": "python",
   "name": "python3"
  },
  "language_info": {
   "codemirror_mode": {
    "name": "ipython",
    "version": 3
   },
   "file_extension": ".py",
   "mimetype": "text/x-python",
   "name": "python",
   "nbconvert_exporter": "python",
   "pygments_lexer": "ipython3",
   "version": "3.10.0"
  },
  "orig_nbformat": 4
 },
 "nbformat": 4,
 "nbformat_minor": 2
}
