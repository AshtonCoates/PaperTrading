{
 "cells": [
  {
   "cell_type": "code",
   "execution_count": 19,
   "metadata": {},
   "outputs": [],
   "source": [
    "import pandas as pd\n",
    "import numpy as np\n",
    "\n",
    "import requests\n",
    "import datetime\n",
    "\n",
    "import yfinance as yf\n",
    "\n",
    "from alpaca.trading.client import TradingClient\n",
    "from alpaca.trading.enums import OrderSide, TimeInForce\n",
    "from alpaca.trading.requests import MarketOrderRequest, StopLossRequest\n",
    "from alpaca.trading.stream import TradingStream\n",
    "\n",
    "import config\n",
    "# from reversal_bot import Reversal\n",
    "# from portfolio import Portfolio"
   ]
  },
  {
   "cell_type": "code",
   "execution_count": 3,
   "metadata": {},
   "outputs": [
    {
     "name": "stdout",
     "output_type": "stream",
     "text": [
      "id 41abbed0-4bcc-4e17-ad2b-327e9246ae36\n",
      "account_number PA3VU3Y41XE7\n",
      "status AccountStatus.ACTIVE\n",
      "crypto_status AccountStatus.ACTIVE\n",
      "currency USD\n",
      "buying_power 397870.8\n",
      "regt_buying_power 198935.4\n",
      "daytrading_buying_power 397870.8\n",
      "non_marginable_buying_power 99467.7\n",
      "cash 99467.7\n",
      "accrued_fees 0\n",
      "pending_transfer_out None\n",
      "pending_transfer_in 0\n",
      "portfolio_value 99467.7\n",
      "pattern_day_trader True\n",
      "trading_blocked False\n",
      "transfers_blocked False\n",
      "account_blocked False\n",
      "created_at 2023-08-04 15:05:19.996002+00:00\n",
      "trade_suspended_by_user False\n",
      "multiplier 4\n",
      "shorting_enabled True\n",
      "equity 99467.7\n",
      "last_equity 99467.7\n",
      "long_market_value 0\n",
      "short_market_value 0\n",
      "initial_margin 0\n",
      "maintenance_margin 0\n",
      "last_maintenance_margin 0\n",
      "sma 99467.7\n",
      "daytrade_count 15\n"
     ]
    }
   ],
   "source": [
    "client = TradingClient(api_key = config.API_KEY, secret_key=config.SECRET_KEY, paper=True)\n",
    "account = dict(client.get_account())\n",
    "for i,j in account.items():\n",
    "    print(i, j)"
   ]
  },
  {
   "cell_type": "code",
   "execution_count": 5,
   "metadata": {},
   "outputs": [
    {
     "ename": "AttributeError",
     "evalue": "'TradingClient' object has no attribute 'list_positions'",
     "output_type": "error",
     "traceback": [
      "\u001b[0;31m---------------------------------------------------------------------------\u001b[0m",
      "\u001b[0;31mAttributeError\u001b[0m                            Traceback (most recent call last)",
      "Cell \u001b[0;32mIn[5], line 1\u001b[0m\n\u001b[0;32m----> 1\u001b[0m client\u001b[39m.\u001b[39;49mlist_positions()\n",
      "\u001b[0;31mAttributeError\u001b[0m: 'TradingClient' object has no attribute 'list_positions'"
     ]
    }
   ],
   "source": [
    "client.list_positions()"
   ]
  },
  {
   "cell_type": "code",
   "execution_count": 9,
   "metadata": {},
   "outputs": [
    {
     "name": "stdout",
     "output_type": "stream",
     "text": [
      "__abstractmethods__\n",
      "__class__\n",
      "__delattr__\n",
      "__dict__\n",
      "__dir__\n",
      "__doc__\n",
      "__eq__\n",
      "__format__\n",
      "__ge__\n",
      "__getattribute__\n",
      "__gt__\n",
      "__hash__\n",
      "__init__\n",
      "__init_subclass__\n",
      "__le__\n",
      "__lt__\n",
      "__module__\n",
      "__ne__\n",
      "__new__\n",
      "__reduce__\n",
      "__reduce_ex__\n",
      "__repr__\n",
      "__setattr__\n",
      "__sizeof__\n",
      "__slots__\n",
      "__str__\n",
      "__subclasshook__\n",
      "__weakref__\n",
      "_abc_impl\n",
      "_api_key\n",
      "_api_version\n",
      "_base_url\n",
      "_get_auth_headers\n",
      "_get_default_headers\n",
      "_oauth_token\n",
      "_one_request\n",
      "_request\n",
      "_retry\n",
      "_retry_codes\n",
      "_retry_wait\n",
      "_return_paginated_result\n",
      "_sandbox\n",
      "_secret_key\n",
      "_session\n",
      "_use_basic_auth\n",
      "_use_raw_data\n",
      "_validate_credentials\n",
      "_validate_pagination\n",
      "add_asset_to_watchlist_by_id\n",
      "cancel_order_by_id\n",
      "cancel_orders\n",
      "close_all_positions\n",
      "close_position\n",
      "create_watchlist\n",
      "delete\n",
      "delete_watchlist_by_id\n",
      "get\n",
      "get_account\n",
      "get_account_configurations\n",
      "get_all_assets\n",
      "get_all_positions\n",
      "get_asset\n",
      "get_calendar\n",
      "get_clock\n",
      "get_corporate_announcement_by_id\n",
      "get_corporate_announcements\n",
      "get_open_position\n",
      "get_order_by_client_id\n",
      "get_order_by_id\n",
      "get_orders\n",
      "get_watchlist_by_id\n",
      "get_watchlists\n",
      "patch\n",
      "post\n",
      "put\n",
      "remove_asset_from_watchlist_by_id\n",
      "replace_order_by_id\n",
      "response_wrapper\n",
      "set_account_configurations\n",
      "submit_order\n",
      "update_watchlist_by_id\n"
     ]
    }
   ],
   "source": [
    "for i in dir(client):\n",
    "    print(i)"
   ]
  },
  {
   "cell_type": "code",
   "execution_count": 11,
   "metadata": {},
   "outputs": [
    {
     "name": "stdout",
     "output_type": "stream",
     "text": [
      "[]\n"
     ]
    }
   ],
   "source": [
    "print(client.get_all_positions())"
   ]
  },
  {
   "cell_type": "code",
   "execution_count": 12,
   "metadata": {},
   "outputs": [
    {
     "name": "stdout",
     "output_type": "stream",
     "text": [
      "yfinance.Tickers object <^IXIC>\n"
     ]
    }
   ],
   "source": [
    "tickers = yf.Tickers('^IXIC')\n",
    "print(tickers)"
   ]
  },
  {
   "cell_type": "code",
   "execution_count": 14,
   "metadata": {},
   "outputs": [
    {
     "name": "stdout",
     "output_type": "stream",
     "text": [
      "^IXIC\n"
     ]
    }
   ],
   "source": [
    "for i in tickers.tickers:\n",
    "    print(i)"
   ]
  },
  {
   "cell_type": "code",
   "execution_count": 20,
   "metadata": {},
   "outputs": [],
   "source": [
    "table = pd.read_html('https://stockmarketmba.com/stocksinthenasdaq100.php')"
   ]
  },
  {
   "cell_type": "code",
   "execution_count": 21,
   "metadata": {},
   "outputs": [
    {
     "name": "stdout",
     "output_type": "stream",
     "text": [
      "[                                                   0\n",
      "0  Due to health issues, this site is no longer m...,    Symbol                       Description      Category2  Category3  \\\n",
      "0     CEG  Constellation Energy Corporation  Common stocks  Large cap   \n",
      "1    RIVN   Rivian Automotive, Inc. Class A  Common stocks  Large cap   \n",
      "2    META              Meta Platforms, Inc.  Common stocks  Large cap   \n",
      "3    ABNB                      Airbnb, Inc.  Common stocks  Large cap   \n",
      "4    LCID                 Lucid Group, Inc.  Common stocks  Large cap   \n",
      "..    ...                               ...            ...        ...   \n",
      "95   MCHP          Microchip Technology Inc  Common stocks  Large cap   \n",
      "96   ODFL     Old Dominion Freight Line Inc  Common stocks  Large cap   \n",
      "97    BKR      Baker Hughes Company Class A  Common stocks  Large cap   \n",
      "98   FISV                        Fiserv Inc  Common stocks  Large cap   \n",
      "99    CSX                          CSX Corp  Common stocks  Large cap   \n",
      "\n",
      "               GICS Sector        Market cap Dividend yield Country   Action  \n",
      "0                Utilities   $24,041,193,486          0.96%     USA  Analyze  \n",
      "1   Consumer Discretionary   $12,603,123,328          0.00%     USA  Analyze  \n",
      "2   Communication Services  $549,513,200,000          0.00%     USA  Analyze  \n",
      "3   Consumer Discretionary   $77,277,975,115          0.00%     USA  Analyze  \n",
      "4   Consumer Discretionary   $14,992,350,004          0.00%     USA  Analyze  \n",
      "..                     ...               ...            ...     ...      ...  \n",
      "95  Information Technology   $45,083,602,323          1.53%     USA  Analyze  \n",
      "96             Industrials   $36,253,708,685          0.39%     USA  Analyze  \n",
      "97                  Energy   $27,029,849,255          2.74%     USA  Analyze  \n",
      "98  Information Technology   $69,784,838,263          0.00%     USA  Analyze  \n",
      "99             Industrials   $57,917,960,587          1.45%     USA  Analyze  \n",
      "\n",
      "[100 rows x 9 columns]]\n"
     ]
    }
   ],
   "source": [
    "print(table)"
   ]
  },
  {
   "cell_type": "code",
   "execution_count": 24,
   "metadata": {},
   "outputs": [
    {
     "name": "stdout",
     "output_type": "stream",
     "text": [
      "0      CEG\n",
      "1     RIVN\n",
      "2     META\n",
      "3     ABNB\n",
      "4     LCID\n",
      "      ... \n",
      "95    MCHP\n",
      "96    ODFL\n",
      "97     BKR\n",
      "98    FISV\n",
      "99     CSX\n",
      "Name: Symbol, Length: 100, dtype: object\n"
     ]
    }
   ],
   "source": [
    "print(table[1]['Symbol'])"
   ]
  },
  {
   "cell_type": "code",
   "execution_count": null,
   "metadata": {},
   "outputs": [],
   "source": []
  }
 ],
 "metadata": {
  "kernelspec": {
   "display_name": ".venv",
   "language": "python",
   "name": "python3"
  },
  "language_info": {
   "codemirror_mode": {
    "name": "ipython",
    "version": 3
   },
   "file_extension": ".py",
   "mimetype": "text/x-python",
   "name": "python",
   "nbconvert_exporter": "python",
   "pygments_lexer": "ipython3",
   "version": "3.10.0"
  },
  "orig_nbformat": 4
 },
 "nbformat": 4,
 "nbformat_minor": 2
}
